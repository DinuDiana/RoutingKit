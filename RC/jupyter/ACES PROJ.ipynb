{
 "cells": [
  {
   "cell_type": "code",
   "execution_count": 94,
   "metadata": {},
   "outputs": [
    {
     "name": "stdout",
     "output_type": "stream",
     "text": [
      "5.736915912945801e-42\n"
     ]
    }
   ],
   "source": [
    "from pynq import Overlay\n",
    "import struct\n",
    "\n",
    "overlay = Overlay('/home/xilinx/pynq/overlays/project_aces/design_1.bit')\n",
    "geo_dist_ip = overlay.geo_dist_0\n",
    "\n",
    "lat_a_addr = 0x10\n",
    "lon_a_addr = 0x18\n",
    "lat_b_addr = 0x20\n",
    "lon_b_addr = 0x28\n",
    "\n",
    "result_addr = 0x30\n",
    "\n",
    "# geo_dist_ip.write(0x00, 0x1)\n",
    "\n",
    "geo_dist_ip.write(lat_a_addr, 30)\n",
    "geo_dist_ip.write(lon_a_addr, 30)\n",
    "geo_dist_ip.write(lat_b_addr, 32)\n",
    "geo_dist_ip.write(lon_b_addr, 32)\n",
    "\n",
    "geo_dist_ip.read(lat_a_addr)\n",
    "geo_dist_ip.read(lon_a_addr)\n",
    "geo_dist_ip.read(lat_b_addr)\n",
    "geo_dist_ip.read(lon_b_addr)\n",
    "geo_dist_ip.read(result_addr)\n",
    "\n",
    "result = struct.unpack('f', struct.pack('I', geo_dist_ip.read(result_addr)))[0]\n",
    "print(result)"
   ]
  },
  {
   "cell_type": "code",
   "execution_count": 83,
   "metadata": {},
   "outputs": [
    {
     "data": {
      "text/plain": [
       "30"
      ]
     },
     "execution_count": 83,
     "metadata": {},
     "output_type": "execute_result"
    }
   ],
   "source": [
    "geo_dist_ip.read(lat_a_addr)"
   ]
  },
  {
   "cell_type": "code",
   "execution_count": 84,
   "metadata": {},
   "outputs": [
    {
     "data": {
      "text/plain": [
       "30"
      ]
     },
     "execution_count": 84,
     "metadata": {},
     "output_type": "execute_result"
    }
   ],
   "source": [
    "geo_dist_ip.read(lon_a_addr)"
   ]
  },
  {
   "cell_type": "code",
   "execution_count": 85,
   "metadata": {},
   "outputs": [
    {
     "data": {
      "text/plain": [
       "32"
      ]
     },
     "execution_count": 85,
     "metadata": {},
     "output_type": "execute_result"
    }
   ],
   "source": [
    "geo_dist_ip.read(lat_b_addr)"
   ]
  },
  {
   "cell_type": "code",
   "execution_count": 86,
   "metadata": {},
   "outputs": [
    {
     "data": {
      "text/plain": [
       "32"
      ]
     },
     "execution_count": 86,
     "metadata": {},
     "output_type": "execute_result"
    }
   ],
   "source": [
    "geo_dist_ip.read(lon_b_addr)"
   ]
  },
  {
   "cell_type": "code",
   "execution_count": 87,
   "metadata": {},
   "outputs": [
    {
     "data": {
      "text/plain": [
       "0"
      ]
     },
     "execution_count": 87,
     "metadata": {},
     "output_type": "execute_result"
    }
   ],
   "source": [
    "geo_dist_ip.read(result_addr)"
   ]
  },
  {
   "cell_type": "code",
   "execution_count": null,
   "metadata": {},
   "outputs": [],
   "source": []
  }
 ],
 "metadata": {
  "kernelspec": {
   "display_name": "Python 3",
   "language": "python",
   "name": "python3"
  },
  "language_info": {
   "codemirror_mode": {
    "name": "ipython",
    "version": 3
   },
   "file_extension": ".py",
   "mimetype": "text/x-python",
   "name": "python",
   "nbconvert_exporter": "python",
   "pygments_lexer": "ipython3",
   "version": "3.6.5"
  }
 },
 "nbformat": 4,
 "nbformat_minor": 2
}
